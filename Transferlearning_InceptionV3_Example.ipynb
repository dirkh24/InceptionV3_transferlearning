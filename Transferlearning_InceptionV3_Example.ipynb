{
 "cells": [
  {
   "cell_type": "code",
   "execution_count": 0,
   "metadata": {
    "colab": {},
    "colab_type": "code",
    "id": "40r2slb0eBun"
   },
   "outputs": [],
   "source": [
    "import warnings\n",
    "warnings.filterwarnings(\"ignore\")"
   ]
  },
  {
   "cell_type": "code",
   "execution_count": 0,
   "metadata": {
    "colab": {},
    "colab_type": "code",
    "id": "KEGU42daeKlJ"
   },
   "outputs": [],
   "source": [
    "import numpy as np\n",
    "import json, os, re\n",
    "\n",
    "from IPython.display import clear_output\n",
    "\n",
    "import seaborn as sns\n",
    "\n",
    "import matplotlib.pyplot as plt\n",
    "%matplotlib inline"
   ]
  },
  {
   "cell_type": "markdown",
   "metadata": {
    "colab_type": "text",
    "id": "9OBVyPtSfI47"
   },
   "source": [
    "## Download the Dataset\n"
   ]
  },
  {
   "cell_type": "code",
   "execution_count": 0,
   "metadata": {
    "colab": {
     "base_uri": "https://localhost:8080/",
     "height": 228
    },
    "colab_type": "code",
    "executionInfo": {
     "elapsed": 7210,
     "status": "ok",
     "timestamp": 1569170133805,
     "user": {
      "displayName": "Dirk Hofmann",
      "photoUrl": "https://lh3.googleusercontent.com/a-/AAuE7mBvAWR3ZywZK1uYOIu0tUsfgcn0GTWOOk0Vkn3s=s64",
      "userId": "04076472018260608089"
     },
     "user_tz": -120
    },
    "id": "PWGW_uTghxQe",
    "outputId": "4a6b9deb-fab0-4cab-eb88-6f7462697759"
   },
   "outputs": [
    {
     "name": "stdout",
     "output_type": "stream",
     "text": [
      "Requirement already satisfied: kaggle in /usr/local/lib/python3.6/dist-packages (1.5.5)\n",
      "Requirement already satisfied: certifi in /usr/local/lib/python3.6/dist-packages (from kaggle) (2019.6.16)\n",
      "Requirement already satisfied: python-dateutil in /usr/local/lib/python3.6/dist-packages (from kaggle) (2.5.3)\n",
      "Requirement already satisfied: python-slugify in /usr/local/lib/python3.6/dist-packages (from kaggle) (3.0.3)\n",
      "Requirement already satisfied: tqdm in /usr/local/lib/python3.6/dist-packages (from kaggle) (4.28.1)\n",
      "Requirement already satisfied: six>=1.10 in /usr/local/lib/python3.6/dist-packages (from kaggle) (1.12.0)\n",
      "Requirement already satisfied: urllib3<1.25,>=1.21.1 in /usr/local/lib/python3.6/dist-packages (from kaggle) (1.24.3)\n",
      "Requirement already satisfied: requests in /usr/local/lib/python3.6/dist-packages (from kaggle) (2.21.0)\n",
      "Requirement already satisfied: text-unidecode==1.2 in /usr/local/lib/python3.6/dist-packages (from python-slugify->kaggle) (1.2)\n",
      "Requirement already satisfied: chardet<3.1.0,>=3.0.2 in /usr/local/lib/python3.6/dist-packages (from requests->kaggle) (3.0.4)\n",
      "Requirement already satisfied: idna<2.9,>=2.5 in /usr/local/lib/python3.6/dist-packages (from requests->kaggle) (2.8)\n",
      "mkdir: cannot create directory ‘/root/.kaggle’: File exists\n"
     ]
    }
   ],
   "source": [
    "!pip install kaggle\n",
    "\n",
    "#username = \"XXXXXXX\"  # Insert your username here\n",
    "#key = \"XXXXXX\"        # Insert your key here \n",
    "\n",
    "api_token = {\"username\": username,\"key\": key}\n",
    "\n",
    "!mkdir /root/.kaggle\n",
    "with open('/root/.kaggle/kaggle.json', 'w') as file:\n",
    "    json.dump(api_token, file)\n",
    "!chmod 600 /root/.kaggle/kaggle.json # that nobody else can read your file"
   ]
  },
  {
   "cell_type": "code",
   "execution_count": 0,
   "metadata": {
    "colab": {
     "base_uri": "https://localhost:8080/",
     "height": 34
    },
    "colab_type": "code",
    "executionInfo": {
     "elapsed": 9236,
     "status": "ok",
     "timestamp": 1569170135845,
     "user": {
      "displayName": "Dirk Hofmann",
      "photoUrl": "https://lh3.googleusercontent.com/a-/AAuE7mBvAWR3ZywZK1uYOIu0tUsfgcn0GTWOOk0Vkn3s=s64",
      "userId": "04076472018260608089"
     },
     "user_tz": -120
    },
    "id": "taY_kdF3h6kD",
    "outputId": "a8e5ff8e-3762-4de2-de79-3ba511c3a67b"
   },
   "outputs": [
    {
     "name": "stdout",
     "output_type": "stream",
     "text": [
      "chest-xray-pneumonia.zip: Skipping, found more recently modified local copy (use --force to force download)\n"
     ]
    }
   ],
   "source": [
    "!kaggle datasets download -d paultimothymooney/chest-xray-pneumonia -p /content/pneumonia"
   ]
  },
  {
   "cell_type": "code",
   "execution_count": 0,
   "metadata": {
    "colab": {
     "base_uri": "https://localhost:8080/",
     "height": 70
    },
    "colab_type": "code",
    "executionInfo": {
     "elapsed": 17769,
     "status": "ok",
     "timestamp": 1569170144403,
     "user": {
      "displayName": "Dirk Hofmann",
      "photoUrl": "https://lh3.googleusercontent.com/a-/AAuE7mBvAWR3ZywZK1uYOIu0tUsfgcn0GTWOOk0Vkn3s=s64",
      "userId": "04076472018260608089"
     },
     "user_tz": -120
    },
    "id": "UpyP1ncIiIqz",
    "outputId": "a625581c-3635-4883-f055-7cad221c8484"
   },
   "outputs": [
    {
     "name": "stdout",
     "output_type": "stream",
     "text": [
      "['model_after_10_epochs', 'chest-xray-pneumonia.zip', 'chest_xray.zip', 'chest_xray', '__MACOSX']\n",
      "replace chest_xray.zip? [y]es, [n]o, [A]ll, [N]one, [r]ename: N\n",
      "replace chest_xray/.DS_Store? [y]es, [n]o, [A]ll, [N]one, [r]ename: N\n"
     ]
    }
   ],
   "source": [
    "os.chdir('/content/pneumonia')\n",
    "print(os.listdir())\n",
    "!unzip -q /content/pneumonia/chest-xray-pneumonia.zip\n",
    "!unzip -q /content/pneumonia/chest_xray.zip"
   ]
  },
  {
   "cell_type": "markdown",
   "metadata": {
    "colab_type": "text",
    "id": "MnuUKaFkgGoE"
   },
   "source": [
    "## Creating ImageGenerator instances for training, validating and testing\n",
    "\n",
    "\n"
   ]
  },
  {
   "cell_type": "code",
   "execution_count": 0,
   "metadata": {
    "colab": {},
    "colab_type": "code",
    "id": "2Xe9AjvtgHnj"
   },
   "outputs": [],
   "source": [
    "from pathlib import Path\n",
    "\n",
    "train_files = \"./chest_xray/train/\"\n",
    "test_files = \"./chest_xray/test/\"\n",
    "val_files = \"./chest_xray/val/\"\n",
    "\n",
    "positive_class_folder_name = \"PNEUMONIA\"\n",
    "negative_class_folder_name = \"NORMAL\""
   ]
  },
  {
   "cell_type": "code",
   "execution_count": 0,
   "metadata": {
    "colab": {
     "base_uri": "https://localhost:8080/",
     "height": 52
    },
    "colab_type": "code",
    "executionInfo": {
     "elapsed": 17730,
     "status": "ok",
     "timestamp": 1569170144405,
     "user": {
      "displayName": "Dirk Hofmann",
      "photoUrl": "https://lh3.googleusercontent.com/a-/AAuE7mBvAWR3ZywZK1uYOIu0tUsfgcn0GTWOOk0Vkn3s=s64",
      "userId": "04076472018260608089"
     },
     "user_tz": -120
    },
    "id": "A_wsyGzEgPJn",
    "outputId": "6d44a30a-f388-4c27-abb2-4f7159936b45"
   },
   "outputs": [
    {
     "name": "stdout",
     "output_type": "stream",
     "text": [
      "Training-Pneumonia - 3875 \n",
      "Training-Normal - 1341 \n"
     ]
    }
   ],
   "source": [
    "# training files\n",
    "\n",
    "# number of X-RAYS which show Pneumonia\n",
    "P = Path(train_files + positive_class_folder_name + \"/\")\n",
    "temp = list(P.glob(\"*.jpeg\"))\n",
    "print(\"Training-Pneumonia - %i \" % len(temp))\n",
    "\n",
    "# number of X-RAYS which are normal\n",
    "P = P = Path(train_files + negative_class_folder_name + \"/\")\n",
    "temp = list(P.glob(\"*.jpeg\"))\n",
    "print(\"Training-Normal - %i \" % len(temp))"
   ]
  },
  {
   "cell_type": "code",
   "execution_count": 0,
   "metadata": {
    "colab": {
     "base_uri": "https://localhost:8080/",
     "height": 52
    },
    "colab_type": "code",
    "executionInfo": {
     "elapsed": 17700,
     "status": "ok",
     "timestamp": 1569170144405,
     "user": {
      "displayName": "Dirk Hofmann",
      "photoUrl": "https://lh3.googleusercontent.com/a-/AAuE7mBvAWR3ZywZK1uYOIu0tUsfgcn0GTWOOk0Vkn3s=s64",
      "userId": "04076472018260608089"
     },
     "user_tz": -120
    },
    "id": "mDSwAyqwgUU0",
    "outputId": "9adb6c12-3d1c-4ee7-b266-2209110cb870"
   },
   "outputs": [
    {
     "name": "stdout",
     "output_type": "stream",
     "text": [
      "Testing-Pneumonia - 390 \n",
      "Testing-Normal - 234 \n"
     ]
    }
   ],
   "source": [
    "# testing files\n",
    "\n",
    "# number of X-RAYS which show Pneumonia\n",
    "P = Path(test_files + positive_class_folder_name + \"/\")\n",
    "temp = list(P.glob(\"*.jpeg\"))\n",
    "print(\"Testing-Pneumonia - %i \" % len(temp))\n",
    "\n",
    "# number of X-RAYS which are normal\n",
    "P = P = Path(test_files + negative_class_folder_name + \"/\")\n",
    "temp = list(P.glob(\"*.jpeg\"))\n",
    "print(\"Testing-Normal - %i \" % len(temp))"
   ]
  },
  {
   "cell_type": "code",
   "execution_count": 0,
   "metadata": {
    "colab": {},
    "colab_type": "code",
    "id": "TR77of7Igjcq"
   },
   "outputs": [],
   "source": [
    "# creating ImageDataGenerators for training\n",
    "from tensorflow.keras.preprocessing.image import ImageDataGenerator\n",
    "\n",
    "train_generator = ImageDataGenerator(featurewise_center = True,\n",
    "                                     shear_range = 0.2,\n",
    "                                     rescale = 1.0/255,\n",
    "                                     horizontal_flip = True,\n",
    "                                     validation_split = 0.2)\n",
    "\n",
    "test_generator = ImageDataGenerator(rescale = 1.0/255)"
   ]
  },
  {
   "cell_type": "code",
   "execution_count": 0,
   "metadata": {
    "colab": {
     "base_uri": "https://localhost:8080/",
     "height": 70
    },
    "colab_type": "code",
    "executionInfo": {
     "elapsed": 19306,
     "status": "ok",
     "timestamp": 1569170146062,
     "user": {
      "displayName": "Dirk Hofmann",
      "photoUrl": "https://lh3.googleusercontent.com/a-/AAuE7mBvAWR3ZywZK1uYOIu0tUsfgcn0GTWOOk0Vkn3s=s64",
      "userId": "04076472018260608089"
     },
     "user_tz": -120
    },
    "id": "O5-a44RrgkbK",
    "outputId": "b6658c9a-4e74-4b51-eb3f-2b704a9366ed"
   },
   "outputs": [
    {
     "name": "stdout",
     "output_type": "stream",
     "text": [
      "Found 4173 images belonging to 2 classes.\n",
      "Found 1043 images belonging to 2 classes.\n",
      "Found 624 images belonging to 2 classes.\n"
     ]
    }
   ],
   "source": [
    "# create batch iterators for the train, validation and test data\n",
    "\n",
    "train_iterator = train_generator.flow_from_directory(train_files, \n",
    "                                                     target_size = (150, 150),\n",
    "                                                     classes = [positive_class_folder_name, negative_class_folder_name],\n",
    "                                                     batch_size = 256, \n",
    "                                                     shuffle = True, \n",
    "                                                     class_mode = \"binary\",\n",
    "                                                     subset = \"training\")\n",
    "                                                    \n",
    "validation_iterator = train_generator.flow_from_directory(train_files, \n",
    "                                                          target_size = (150, 150),\n",
    "                                                          classes = [positive_class_folder_name, negative_class_folder_name],\n",
    "                                                          batch_size = 128, \n",
    "                                                          shuffle = False, \n",
    "                                                          class_mode = \"binary\",\n",
    "                                                          subset = \"validation\")\n",
    "\n",
    "test_iterator = test_generator.flow_from_directory(test_files, \n",
    "                                                   target_size = (150, 150), \n",
    "                                                   classes = [positive_class_folder_name, negative_class_folder_name],\n",
    "                                                   batch_size = 64, \n",
    "                                                   shuffle = False,\n",
    "                                                   class_mode = \"binary\")"
   ]
  },
  {
   "cell_type": "markdown",
   "metadata": {
    "colab_type": "text",
    "id": "zEnwUr9uWB2g"
   },
   "source": [
    "### What are the labels?"
   ]
  },
  {
   "cell_type": "code",
   "execution_count": 0,
   "metadata": {
    "colab": {
     "base_uri": "https://localhost:8080/",
     "height": 34
    },
    "colab_type": "code",
    "executionInfo": {
     "elapsed": 19291,
     "status": "ok",
     "timestamp": 1569170146065,
     "user": {
      "displayName": "Dirk Hofmann",
      "photoUrl": "https://lh3.googleusercontent.com/a-/AAuE7mBvAWR3ZywZK1uYOIu0tUsfgcn0GTWOOk0Vkn3s=s64",
      "userId": "04076472018260608089"
     },
     "user_tz": -120
    },
    "id": "js9CnZVxSjm0",
    "outputId": "cdb0e3ff-0882-405c-c43a-b177092f9b10"
   },
   "outputs": [
    {
     "data": {
      "text/plain": [
       "{'NORMAL': 1, 'PNEUMONIA': 0}"
      ]
     },
     "execution_count": 12,
     "metadata": {
      "tags": []
     },
     "output_type": "execute_result"
    }
   ],
   "source": [
    "train_iterator.class_indices"
   ]
  },
  {
   "cell_type": "markdown",
   "metadata": {
    "colab_type": "text",
    "id": "Xj0mQvvl6pDU"
   },
   "source": [
    "### Helper functions"
   ]
  },
  {
   "cell_type": "code",
   "execution_count": 0,
   "metadata": {
    "colab": {},
    "colab_type": "code",
    "id": "PhUYYI9QQuKq"
   },
   "outputs": [],
   "source": [
    "def get_reset_subplot_params(nrows, ncols, dpi):\n",
    "    subplot_params = {}\n",
    "    subplot_params[\"nrows\"] = nrows\n",
    "    subplot_params[\"ncols\"] = ncols\n",
    "\n",
    "    subplot_params[\"figsize_col\"] = subplot_params[\"ncols\"]*2.5\n",
    "    subplot_params[\"figsize_row\"] = subplot_params[\"nrows\"]*2.5\n",
    "    subplot_params[\"dpi\"] = dpi\n",
    "    subplot_params[\"facecolor\"] = 'w'\n",
    "    subplot_params[\"edgecolor\"] = 'k'\n",
    "    subplot_params[\"subplot_kw\"] = {'xticks': [], 'yticks': []}\n",
    "    subplot_params[\"axes.titlesize\"] = 'small'\n",
    "    subplot_params[\"hspace\"] = 0.5\n",
    "    subplot_params[\"wspace\"] = 0.3\n",
    "    \n",
    "    return subplot_params\n",
    "\n",
    "def get_reset_plot_params(figsize=(15, 5), title=\"\", xlabel =\"\", ylabel=\"\", legends=[], title_fontsize = 18, label_fontsize = 14, image_file_name=\"\", save = False, dpi=100, update_image=True):\n",
    "    plot_params = {}\n",
    "    \n",
    "    plot_params[\"figsize\"] = figsize\n",
    "    \n",
    "    plot_params[\"title\"] = title\n",
    "    \n",
    "    plot_params[\"xlabel\"] = xlabel\n",
    "    plot_params[\"ylabel\"] = ylabel\n",
    "    \n",
    "    plot_params[\"legends\"] = legends \n",
    "    \n",
    "    plot_params[\"title_fontsize\"] = title_fontsize\n",
    "    plot_params[\"axes.titlesize\"] = \"small\"\n",
    "    plot_params[\"label_fontsize\"] = label_fontsize\n",
    "    \n",
    "    plot_params[\"image_file_name\"] = image_file_name\n",
    "    plot_params[\"save\"] = save\n",
    "    plot_params[\"update_image\"] = update_image\n",
    "    \n",
    "    plot_params[\"subplot\"] = None\n",
    "    return plot_params"
   ]
  },
  {
   "cell_type": "code",
   "execution_count": 0,
   "metadata": {
    "colab": {},
    "colab_type": "code",
    "id": "w7skd_Q3IThU"
   },
   "outputs": [],
   "source": [
    "# count number of files in each subdirectory of a directory\n",
    "def subdirectory_file_count(master_directory):\n",
    "    subdirectories = os.listdir(master_directory)\n",
    "    subdirectory_count = len(subdirectories)\n",
    "\n",
    "    subdirectory_names = []\n",
    "    subdirectory_file_counts = []\n",
    "\n",
    "    for subdirectory in subdirectories:\n",
    "        current_directory = os.path.join(master_directory, subdirectory)\n",
    "        if os.path.isdir(current_directory):\n",
    "          file_count = len(os.listdir(current_directory))\n",
    "          subdirectory_names.append(subdirectory)\n",
    "          subdirectory_file_counts.append(file_count)\n",
    "    \n",
    "    return subdirectory_names, subdirectory_file_counts\n",
    "         \n",
    "    \n",
    "\n",
    "# show barplot\n",
    "def bar_plot(x, y, plot_property):\n",
    "    if plot_property['subplot']:\n",
    "        plt.subplot(plot_property['subplot'])\n",
    "    sns.barplot(x=x, y=y)\n",
    "    plt.title(plot_property['title'], fontsize=plot_property['title_fontsize'])\n",
    "    plt.xlabel(plot_property['xlabel'], fontsize=plot_property['label_fontsize'])\n",
    "    plt.ylabel(plot_property['ylabel'], fontsize=plot_property['label_fontsize'])\n",
    "    plt.xticks(range(len(x)), x)\n",
    "    \n",
    "# show bar plot for count of labels in subdirectory of a directory\n",
    "def count_bar_plot(master_directory, plot_property):\n",
    "    dir_name, dir_file_count = subdirectory_file_count(master_directory)\n",
    "    x = [name_correct(i) for i in dir_name]\n",
    "    # x = dir_name\n",
    "    y = dir_file_count\n",
    "    bar_plot(x, y, plot_property)\n",
    "    \n",
    "    \n",
    "# show bar plot for count of labels in subdirectory of a training, validation, testing directory    \n",
    "def show_train_val_test(training_dir, validation_dir, testing_dir, plot_property):\n",
    "    plt.figure(figsize=plot_property['figsize'])\n",
    "    \n",
    "    title = plot_property['title']\n",
    "    plot_property['title'] = title + \" (Training)\"\n",
    "    subplot_no = plot_property['subplot'] \n",
    "\n",
    "    count_bar_plot(training_dir, plot_property)\n",
    "    \n",
    "    \n",
    "    plot_property['title'] = title + \" (Validation)\"\n",
    "    plot_property['subplot'] = subplot_no+1\n",
    "    count_bar_plot(validation_dir, plot_property)\n",
    "    \n",
    "    \n",
    "    plot_property['title'] = title + \" (Testing)\"\n",
    "    plot_property['subplot'] = subplot_no + 2\n",
    "    count_bar_plot(testing_dir, plot_property)\n",
    "    \n",
    "    plt.show()"
   ]
  },
  {
   "cell_type": "code",
   "execution_count": 0,
   "metadata": {
    "colab": {},
    "colab_type": "code",
    "id": "ehGCbu9oRDoM"
   },
   "outputs": [],
   "source": [
    "# Removes everything except alphabetical and selected characters from name string\n",
    "def name_correct(name):\n",
    "    return re.sub(r'[^a-zA-Z,:]', ' ', name).title()"
   ]
  },
  {
   "cell_type": "markdown",
   "metadata": {
    "colab_type": "text",
    "id": "k5Zl91N96tzG"
   },
   "source": [
    "## How many pictures of which class do we have"
   ]
  },
  {
   "cell_type": "code",
   "execution_count": 0,
   "metadata": {
    "colab": {
     "base_uri": "https://localhost:8080/",
     "height": 281
    },
    "colab_type": "code",
    "executionInfo": {
     "elapsed": 20003,
     "status": "ok",
     "timestamp": 1569170146844,
     "user": {
      "displayName": "Dirk Hofmann",
      "photoUrl": "https://lh3.googleusercontent.com/a-/AAuE7mBvAWR3ZywZK1uYOIu0tUsfgcn0GTWOOk0Vkn3s=s64",
      "userId": "04076472018260608089"
     },
     "user_tz": -120
    },
    "id": "7MixXbU-H_2M",
    "outputId": "1c759917-69b7-441c-d1df-baaa854feb22"
   },
   "outputs": [
    {
     "data": {
      "image/png": "[encoded data removed]",
      "text/plain": [
       "<Figure size 1296x288 with 3 Axes>"
      ]
     },
     "metadata": {
      "tags": []
     },
     "output_type": "display_data"
    }
   ],
   "source": [
    "plot_params = get_reset_plot_params()\n",
    "\n",
    "plot_params['figsize'] = (18,4)\n",
    "\n",
    "plot_params['title_fontsize'] = 13\n",
    "plot_params['label_fontsize'] = 10\n",
    "\n",
    "plot_params['title'] = \"Number of Cases\"\n",
    "\n",
    "plot_params['subplot'] = 131\n",
    "\n",
    "show_train_val_test(train_files, val_files, test_files, plot_params)\n",
    "classes = os.listdir(train_files)\n",
    "classes = [name_correct(i) for i in classes]"
   ]
  },
  {
   "cell_type": "code",
   "execution_count": 0,
   "metadata": {
    "colab": {
     "base_uri": "https://localhost:8080/",
     "height": 34
    },
    "colab_type": "code",
    "executionInfo": {
     "elapsed": 19984,
     "status": "ok",
     "timestamp": 1569170146844,
     "user": {
      "displayName": "Dirk Hofmann",
      "photoUrl": "https://lh3.googleusercontent.com/a-/AAuE7mBvAWR3ZywZK1uYOIu0tUsfgcn0GTWOOk0Vkn3s=s64",
      "userId": "04076472018260608089"
     },
     "user_tz": -120
    },
    "id": "REjZex-Jg4CF",
    "outputId": "6fe73aa8-db3b-4026-c6dc-82e06ece72f6"
   },
   "outputs": [
    {
     "data": {
      "text/plain": [
       "array([0.67306452, 1.944548  ])"
      ]
     },
     "execution_count": 17,
     "metadata": {
      "tags": []
     },
     "output_type": "execute_result"
    }
   ],
   "source": [
    "# defining category label weights as per imbalance amount of the training dataset\n",
    "\n",
    "from sklearn.utils.class_weight import compute_class_weight\n",
    "\n",
    "y = train_iterator.classes\n",
    "labels = np.unique(y)\n",
    "\n",
    "train_class_weights = compute_class_weight(\"balanced\", labels, y)\n",
    "train_class_weights"
   ]
  },
  {
   "cell_type": "markdown",
   "metadata": {
    "colab_type": "text",
    "id": "W2l8G3m6g9s1"
   },
   "source": [
    "## Transfer Learning using the InceptionV3 pretrained CNN"
   ]
  },
  {
   "cell_type": "code",
   "execution_count": 0,
   "metadata": {
    "colab": {
     "base_uri": "https://localhost:8080/",
     "height": 562
    },
    "colab_type": "code",
    "executionInfo": {
     "elapsed": 19971,
     "status": "ok",
     "timestamp": 1569170146845,
     "user": {
      "displayName": "Dirk Hofmann",
      "photoUrl": "https://lh3.googleusercontent.com/a-/AAuE7mBvAWR3ZywZK1uYOIu0tUsfgcn0GTWOOk0Vkn3s=s64",
      "userId": "04076472018260608089"
     },
     "user_tz": -120
    },
    "id": "LqD1NzEIg7Di",
    "outputId": "f9b12a25-4cfa-4ffc-9542-6e8096bd3df3"
   },
   "outputs": [
    {
     "name": "stdout",
     "output_type": "stream",
     "text": [
      "[name: \"/device:CPU:0\"\n",
      "device_type: \"CPU\"\n",
      "memory_limit: 268435456\n",
      "locality {\n",
      "}\n",
      "incarnation: 12854248881526848455\n",
      ", name: \"/device:XLA_CPU:0\"\n",
      "device_type: \"XLA_CPU\"\n",
      "memory_limit: 17179869184\n",
      "locality {\n",
      "}\n",
      "incarnation: 15931972011662589707\n",
      "physical_device_desc: \"device: XLA_CPU device\"\n",
      ", name: \"/device:XLA_GPU:0\"\n",
      "device_type: \"XLA_GPU\"\n",
      "memory_limit: 17179869184\n",
      "locality {\n",
      "}\n",
      "incarnation: 6972708985232691085\n",
      "physical_device_desc: \"device: XLA_GPU device\"\n",
      ", name: \"/device:GPU:0\"\n",
      "device_type: \"GPU\"\n",
      "memory_limit: 14912199066\n",
      "locality {\n",
      "  bus_id: 1\n",
      "  links {\n",
      "  }\n",
      "}\n",
      "incarnation: 9535657115257362993\n",
      "physical_device_desc: \"device: 0, name: Tesla T4, pci bus id: 0000:00:04.0, compute capability: 7.5\"\n",
      "]\n"
     ]
    }
   ],
   "source": [
    "# are the Colab GPUs available to tensorflow?\n",
    "\n",
    "from tensorflow.python.client import device_lib\n",
    "print(device_lib.list_local_devices())"
   ]
  },
  {
   "cell_type": "code",
   "execution_count": 0,
   "metadata": {
    "colab": {},
    "colab_type": "code",
    "id": "_XHFAIybhDFu"
   },
   "outputs": [],
   "source": [
    "from tensorflow.keras.backend import clear_session\n",
    "\n",
    "from tensorflow.keras.layers import Dropout, GlobalAveragePooling2D, BatchNormalization, Dense\n",
    "\n",
    "from tensorflow.keras.models import Sequential, load_model, save_model\n",
    "from tensorflow.keras.applications.inception_v3 import InceptionV3\n",
    "from tensorflow.keras.optimizers import RMSprop, Adam, SGD\n"
   ]
  },
  {
   "cell_type": "markdown",
   "metadata": {
    "colab_type": "text",
    "id": "MIAXIDbqhI7w"
   },
   "source": [
    "## Modify the Inception V3 CNN"
   ]
  },
  {
   "cell_type": "markdown",
   "metadata": {
    "colab_type": "text",
    "id": "u-HVDhfjZnkN"
   },
   "source": [
    "### A Model with the RMSprop Optimizer"
   ]
  },
  {
   "cell_type": "code",
   "execution_count": 0,
   "metadata": {
    "colab": {
     "base_uri": "https://localhost:8080/",
     "height": 442
    },
    "colab_type": "code",
    "executionInfo": {
     "elapsed": 288,
     "status": "ok",
     "timestamp": 1569170158758,
     "user": {
      "displayName": "Dirk Hofmann",
      "photoUrl": "https://lh3.googleusercontent.com/a-/AAuE7mBvAWR3ZywZK1uYOIu0tUsfgcn0GTWOOk0Vkn3s=s64",
      "userId": "04076472018260608089"
     },
     "user_tz": -120
    },
    "id": "ugj3gd4vhJwT",
    "outputId": "48d52ca8-ec44-4a58-e80e-0155cd668c14"
   },
   "outputs": [
    {
     "name": "stdout",
     "output_type": "stream",
     "text": [
      "WARNING:tensorflow:From /usr/local/lib/python3.6/dist-packages/tensorflow/python/ops/nn_impl.py:180: add_dispatch_support.<locals>.wrapper (from tensorflow.python.ops.array_ops) is deprecated and will be removed in a future version.\n",
      "Instructions for updating:\n",
      "Use tf.where in 2.0, which has the same broadcast rule as np.where\n",
      "Model: \"sequential\"\n",
      "_________________________________________________________________\n",
      "Layer (type)                 Output Shape              Param #   \n",
      "=================================================================\n",
      "inception_v3 (Model)         (None, 3, 3, 2048)        21802784  \n",
      "_________________________________________________________________\n",
      "global_average_pooling2d (Gl (None, 2048)              0         \n",
      "_________________________________________________________________\n",
      "dropout (Dropout)            (None, 2048)              0         \n",
      "_________________________________________________________________\n",
      "dense (Dense)                (None, 128)               262272    \n",
      "_________________________________________________________________\n",
      "dropout_1 (Dropout)          (None, 128)               0         \n",
      "_________________________________________________________________\n",
      "dense_1 (Dense)              (None, 1)                 129       \n",
      "=================================================================\n",
      "Total params: 22,065,185\n",
      "Trainable params: 262,401\n",
      "Non-trainable params: 21,802,784\n",
      "_________________________________________________________________\n"
     ]
    }
   ],
   "source": [
    "clear_session()\n",
    "\n",
    "base_model = InceptionV3(weights = \"imagenet\", include_top = False, input_shape = (150, 150, 3))\n",
    "clear_output()\n",
    "\n",
    "base_model.trainable = False\n",
    "myModel = Sequential([base_model,\n",
    "                      GlobalAveragePooling2D(),\n",
    "                      #Dense(1024, activation = \"relu\"),\n",
    "                      #Dropout(0.3),\n",
    "                      #Dense(512, activation = \"relu\"),\n",
    "                      #Dropout(0.3),\n",
    "                      #Dense(256, activation = \"relu\"),\n",
    "                      Dropout(0.3),\n",
    "                      Dense(128, activation = \"relu\"),\n",
    "                      Dropout(0.3),\n",
    "                      Dense(1, activation = \"sigmoid\")])\n",
    "\n",
    "myModel.compile(RMSprop(), loss = \"binary_crossentropy\", metrics = [\"accuracy\"])\n",
    "myModel.summary()"
   ]
  },
  {
   "cell_type": "markdown",
   "metadata": {
    "colab_type": "text",
    "id": "EtEMs5dPZux9"
   },
   "source": [
    "### A Model with the Adam Optimizer"
   ]
  },
  {
   "cell_type": "code",
   "execution_count": 0,
   "metadata": {
    "colab": {
     "base_uri": "https://localhost:8080/",
     "height": 369
    },
    "colab_type": "code",
    "executionInfo": {
     "elapsed": 277,
     "status": "ok",
     "timestamp": 1569170170305,
     "user": {
      "displayName": "Dirk Hofmann",
      "photoUrl": "https://lh3.googleusercontent.com/a-/AAuE7mBvAWR3ZywZK1uYOIu0tUsfgcn0GTWOOk0Vkn3s=s64",
      "userId": "04076472018260608089"
     },
     "user_tz": -120
    },
    "id": "S3tTnk3z3YUH",
    "outputId": "7a769a91-141f-42dc-fb27-80418b0c2925"
   },
   "outputs": [
    {
     "name": "stdout",
     "output_type": "stream",
     "text": [
      "Model: \"sequential\"\n",
      "_________________________________________________________________\n",
      "Layer (type)                 Output Shape              Param #   \n",
      "=================================================================\n",
      "inception_v3 (Model)         (None, 3, 3, 2048)        21802784  \n",
      "_________________________________________________________________\n",
      "global_average_pooling2d (Gl (None, 2048)              0         \n",
      "_________________________________________________________________\n",
      "dense (Dense)                (None, 512)               1049088   \n",
      "_________________________________________________________________\n",
      "dropout (Dropout)            (None, 512)               0         \n",
      "_________________________________________________________________\n",
      "dense_1 (Dense)              (None, 128)               65664     \n",
      "_________________________________________________________________\n",
      "dense_2 (Dense)              (None, 1)                 129       \n",
      "=================================================================\n",
      "Total params: 22,917,665\n",
      "Trainable params: 1,114,881\n",
      "Non-trainable params: 21,802,784\n",
      "_________________________________________________________________\n"
     ]
    }
   ],
   "source": [
    "clear_session()\n",
    "\n",
    "lr = 0.00001\n",
    "#lr = 0.0001\n",
    "optimizer=Adam(lr=lr)\n",
    "\n",
    "#optimizer=optimizers.Adam()\n",
    "loss='categorical_crossentropy'\n",
    "metrics=['accuracy']\n",
    "\n",
    "\n",
    "base_model = InceptionV3(weights = \"imagenet\", include_top = False, input_shape = (150, 150, 3))\n",
    "clear_output()\n",
    "\n",
    "base_model.trainable = False\n",
    "myModel = Sequential([base_model,\n",
    "                      GlobalAveragePooling2D(),\n",
    "                      #Dense(1024, activation = \"relu\"),\n",
    "                      #Dropout(0.3),\n",
    "                      Dense(512, activation = \"relu\"),\n",
    "                      Dropout(0.3),\n",
    "                      #Dense(256, activation = \"relu\"),\n",
    "                      #Dropout(0.3),\n",
    "                      Dense(128, activation = \"relu\"),\n",
    "                      #Dropout(0.3),\n",
    "                      Dense(1, activation = \"sigmoid\")])\n",
    "\n",
    "myModel.compile(optimizer=optimizer, loss = \"binary_crossentropy\", metrics = [\"accuracy\"])\n",
    "myModel.summary()"
   ]
  },
  {
   "cell_type": "markdown",
   "metadata": {
    "colab_type": "text",
    "id": "2eIw_5GfhPQ-"
   },
   "source": [
    "## Train the model"
   ]
  },
  {
   "cell_type": "code",
   "execution_count": 0,
   "metadata": {
    "colab": {
     "base_uri": "https://localhost:8080/",
     "height": 721
    },
    "colab_type": "code",
    "executionInfo": {
     "elapsed": 1190544,
     "status": "ok",
     "timestamp": 1569171317469,
     "user": {
      "displayName": "Dirk Hofmann",
      "photoUrl": "https://lh3.googleusercontent.com/a-/AAuE7mBvAWR3ZywZK1uYOIu0tUsfgcn0GTWOOk0Vkn3s=s64",
      "userId": "04076472018260608089"
     },
     "user_tz": -120
    },
    "id": "t6K9vDXxhPw-",
    "outputId": "2cacbf3b-db43-449a-8a2e-06b59250c6c0"
   },
   "outputs": [
    {
     "name": "stdout",
     "output_type": "stream",
     "text": [
      "Epoch 1/20\n",
      "17/17 [==============================] - 82s 5s/step - loss: 0.7478 - acc: 0.4488 - val_loss: 1.0417 - val_acc: 0.7392\n",
      "Epoch 2/20\n",
      "17/17 [==============================] - 62s 4s/step - loss: 0.6610 - acc: 0.6803 - val_loss: 1.3027 - val_acc: 0.7430\n",
      "Epoch 3/20\n",
      "17/17 [==============================] - 55s 3s/step - loss: 0.6276 - acc: 0.7211 - val_loss: 1.2592 - val_acc: 0.7430\n",
      "Epoch 4/20\n",
      "17/17 [==============================] - 57s 3s/step - loss: 0.6116 - acc: 0.7290 - val_loss: 1.1624 - val_acc: 0.7430\n",
      "Epoch 5/20\n",
      "17/17 [==============================] - 54s 3s/step - loss: 0.5875 - acc: 0.7491 - val_loss: 1.1204 - val_acc: 0.7430\n",
      "Epoch 6/20\n",
      "17/17 [==============================] - 53s 3s/step - loss: 0.5577 - acc: 0.7637 - val_loss: 1.1010 - val_acc: 0.7430\n",
      "Epoch 7/20\n",
      "17/17 [==============================] - 56s 3s/step - loss: 0.5405 - acc: 0.7711 - val_loss: 1.0829 - val_acc: 0.7430\n",
      "Epoch 8/20\n",
      "17/17 [==============================] - 55s 3s/step - loss: 0.5155 - acc: 0.7843 - val_loss: 1.0142 - val_acc: 0.7430\n",
      "Epoch 9/20\n",
      "17/17 [==============================] - 55s 3s/step - loss: 0.4940 - acc: 0.8035 - val_loss: 0.9885 - val_acc: 0.7430\n",
      "Epoch 10/20\n",
      "17/17 [==============================] - 54s 3s/step - loss: 0.4703 - acc: 0.8179 - val_loss: 0.9345 - val_acc: 0.7430\n",
      "Epoch 11/20\n",
      "17/17 [==============================] - 56s 3s/step - loss: 0.4576 - acc: 0.8243 - val_loss: 0.8786 - val_acc: 0.7440\n",
      "Epoch 12/20\n",
      "17/17 [==============================] - 54s 3s/step - loss: 0.4321 - acc: 0.8385 - val_loss: 0.8189 - val_acc: 0.7459\n",
      "Epoch 13/20\n",
      "17/17 [==============================] - 57s 3s/step - loss: 0.4140 - acc: 0.8471 - val_loss: 0.8039 - val_acc: 0.7469\n",
      "Epoch 14/20\n",
      "17/17 [==============================] - 53s 3s/step - loss: 0.3990 - acc: 0.8589 - val_loss: 0.7448 - val_acc: 0.7536\n",
      "Epoch 15/20\n",
      "17/17 [==============================] - 56s 3s/step - loss: 0.3872 - acc: 0.8608 - val_loss: 0.7291 - val_acc: 0.7622\n",
      "Epoch 16/20\n",
      "17/17 [==============================] - 57s 3s/step - loss: 0.3754 - acc: 0.8677 - val_loss: 0.6535 - val_acc: 0.7785\n",
      "Epoch 17/20\n",
      "17/17 [==============================] - 54s 3s/step - loss: 0.3559 - acc: 0.8696 - val_loss: 0.6357 - val_acc: 0.7862\n",
      "Epoch 18/20\n",
      "17/17 [==============================] - 55s 3s/step - loss: 0.3478 - acc: 0.8773 - val_loss: 0.5515 - val_acc: 0.8073\n",
      "Epoch 19/20\n",
      "17/17 [==============================] - 56s 3s/step - loss: 0.3334 - acc: 0.8771 - val_loss: 0.5311 - val_acc: 0.8236\n",
      "Epoch 20/20\n",
      "17/17 [==============================] - 56s 3s/step - loss: 0.3305 - acc: 0.8773 - val_loss: 0.4964 - val_acc: 0.8360\n"
     ]
    }
   ],
   "source": [
    "history = myModel.fit_generator(train_iterator, \n",
    "                                steps_per_epoch = len(train_iterator),\n",
    "                                epochs = 20,\n",
    "                                verbose = 1,\n",
    "                                workers = 20,\n",
    "                                validation_data = validation_iterator, \n",
    "                                validation_steps = len(validation_iterator),\n",
    "                                class_weight = train_class_weights)"
   ]
  },
  {
   "cell_type": "markdown",
   "metadata": {
    "colab_type": "text",
    "id": "m4LHKuonkpP9"
   },
   "source": [
    "## Model Performance Visualization over the Epochs"
   ]
  },
  {
   "cell_type": "code",
   "execution_count": 0,
   "metadata": {
    "colab": {
     "base_uri": "https://localhost:8080/",
     "height": 359
    },
    "colab_type": "code",
    "executionInfo": {
     "elapsed": 1193741,
     "status": "ok",
     "timestamp": 1569171320687,
     "user": {
      "displayName": "Dirk Hofmann",
      "photoUrl": "https://lh3.googleusercontent.com/a-/AAuE7mBvAWR3ZywZK1uYOIu0tUsfgcn0GTWOOk0Vkn3s=s64",
      "userId": "04076472018260608089"
     },
     "user_tz": -120
    },
    "id": "X00OpEyMks8B",
    "outputId": "80201b4a-17d3-4bad-d303-c6872903829c"
   },
   "outputs": [
    {
     "data": {
      "image/png": "[encoded data removed]",
      "text/plain": [
       "<Figure size 1080x360 with 2 Axes>"
      ]
     },
     "metadata": {
      "tags": []
     },
     "output_type": "display_data"
    }
   ],
   "source": [
    "import matplotlib.pyplot as plt\n",
    "\n",
    "xlabel = 'Epoch'\n",
    "legends = ['Training', 'Validation']\n",
    "\n",
    "ylim_pad = [0.01, 0.1]\n",
    "\n",
    "\n",
    "plt.figure(figsize=(15, 5))\n",
    "\n",
    "# Plot training & validation Accuracy values\n",
    "\n",
    "y1 = history.history['acc']\n",
    "y2 = history.history['val_acc']\n",
    "\n",
    "min_y = min(min(y1), min(y2))-ylim_pad[0]\n",
    "max_y = max(max(y1), max(y2))+ylim_pad[0]\n",
    "\n",
    "\n",
    "plt.subplot(121)\n",
    "\n",
    "plt.plot(y1)\n",
    "plt.plot(y2)\n",
    "\n",
    "plt.title('Model Accuracy', fontsize=17)\n",
    "plt.xlabel(xlabel, fontsize=15)\n",
    "plt.ylabel('Accuracy', fontsize=15)\n",
    "plt.ylim(min_y, max_y)\n",
    "plt.legend(legends, loc='upper left')\n",
    "plt.grid()\n",
    "\n",
    "                         \n",
    "# Plot training & validation loss values\n",
    "    \n",
    "y1 = history.history['loss']\n",
    "y2 = history.history['val_loss']\n",
    "\n",
    "min_y = min(min(y1), min(y2))-ylim_pad[1]\n",
    "max_y = max(max(y1), max(y2))+ylim_pad[1]\n",
    "    \n",
    "    \n",
    "plt.subplot(122)\n",
    "\n",
    "plt.plot(y1)\n",
    "plt.plot(y2)\n",
    "\n",
    "plt.title('Model Loss', fontsize=17)\n",
    "plt.xlabel(xlabel, fontsize=15)\n",
    "plt.ylabel('Loss', fontsize=15)\n",
    "plt.ylim(min_y, max_y)\n",
    "plt.legend(legends, loc='upper left')\n",
    "plt.grid()\n",
    "                         \n",
    "plt.show()"
   ]
  },
  {
   "cell_type": "markdown",
   "metadata": {
    "colab_type": "text",
    "id": "w1xxUCpChV3F"
   },
   "source": [
    "## Save the model"
   ]
  },
  {
   "cell_type": "code",
   "execution_count": 0,
   "metadata": {
    "colab": {},
    "colab_type": "code",
    "id": "dFSu-ViQhWWQ"
   },
   "outputs": [],
   "source": [
    "save_model(myModel, \"./model_after_10_epochs\", overwrite = True, include_optimizer = True)"
   ]
  },
  {
   "cell_type": "markdown",
   "metadata": {
    "colab_type": "text",
    "id": "HYjLByb0ha4Y"
   },
   "source": [
    "## Load myModel from local directory if required"
   ]
  },
  {
   "cell_type": "code",
   "execution_count": 0,
   "metadata": {
    "colab": {
     "base_uri": "https://localhost:8080/",
     "height": 195
    },
    "colab_type": "code",
    "executionInfo": {
     "elapsed": 1213114,
     "status": "ok",
     "timestamp": 1569171340086,
     "user": {
      "displayName": "Dirk Hofmann",
      "photoUrl": "https://lh3.googleusercontent.com/a-/AAuE7mBvAWR3ZywZK1uYOIu0tUsfgcn0GTWOOk0Vkn3s=s64",
      "userId": "04076472018260608089"
     },
     "user_tz": -120
    },
    "id": "kX6vt1XQhbYA",
    "outputId": "fe8dc887-2daf-43c4-ba27-0e30631fded1"
   },
   "outputs": [
    {
     "name": "stdout",
     "output_type": "stream",
     "text": [
      "WARNING:tensorflow:From /usr/local/lib/python3.6/dist-packages/tensorflow/python/ops/init_ops.py:97: calling GlorotUniform.__init__ (from tensorflow.python.ops.init_ops) with dtype is deprecated and will be removed in a future version.\n",
      "Instructions for updating:\n",
      "Call initializer instance with the dtype argument instead of passing it to the constructor\n",
      "WARNING:tensorflow:From /usr/local/lib/python3.6/dist-packages/tensorflow/python/ops/init_ops.py:97: calling Zeros.__init__ (from tensorflow.python.ops.init_ops) with dtype is deprecated and will be removed in a future version.\n",
      "Instructions for updating:\n",
      "Call initializer instance with the dtype argument instead of passing it to the constructor\n",
      "WARNING:tensorflow:From /usr/local/lib/python3.6/dist-packages/tensorflow/python/ops/init_ops.py:97: calling Ones.__init__ (from tensorflow.python.ops.init_ops) with dtype is deprecated and will be removed in a future version.\n",
      "Instructions for updating:\n",
      "Call initializer instance with the dtype argument instead of passing it to the constructor\n"
     ]
    }
   ],
   "source": [
    "myModel = load_model(\"./model_after_10_epochs\")"
   ]
  },
  {
   "cell_type": "markdown",
   "metadata": {
    "colab_type": "text",
    "id": "jtTeIylPhemC"
   },
   "source": [
    "##  Compute Evaluation Metrics"
   ]
  },
  {
   "cell_type": "code",
   "execution_count": 0,
   "metadata": {
    "colab": {
     "base_uri": "https://localhost:8080/",
     "height": 175
    },
    "colab_type": "code",
    "executionInfo": {
     "elapsed": 1221158,
     "status": "ok",
     "timestamp": 1569171348141,
     "user": {
      "displayName": "Dirk Hofmann",
      "photoUrl": "https://lh3.googleusercontent.com/a-/AAuE7mBvAWR3ZywZK1uYOIu0tUsfgcn0GTWOOk0Vkn3s=s64",
      "userId": "04076472018260608089"
     },
     "user_tz": -120
    },
    "id": "qTiJSAfmhhFq",
    "outputId": "6b2afbd7-27ed-42ae-d0b4-41d1fc822cf7"
   },
   "outputs": [
    {
     "name": "stdout",
     "output_type": "stream",
     "text": [
      "              precision    recall  f1-score   support\n",
      "\n",
      "   PNEUMONIA       0.64      0.99      0.77       390\n",
      "      NORMAL       0.74      0.06      0.11       234\n",
      "\n",
      "    accuracy                           0.64       624\n",
      "   macro avg       0.69      0.52      0.44       624\n",
      "weighted avg       0.67      0.64      0.53       624\n",
      "\n"
     ]
    }
   ],
   "source": [
    "from sklearn.metrics import classification_report\n",
    "\n",
    "\n",
    "yhat = myModel.predict_generator(test_iterator,\n",
    "                                 steps = len(test_iterator),\n",
    "                                 verbose = 0)  \n",
    "mask = yhat > 0.5\n",
    "yhat[mask] = 1\n",
    "yhat[~mask] = 0\n",
    "\n",
    "y = test_iterator.classes\n",
    "\n",
    "target_names = [positive_class_folder_name, negative_class_folder_name]\n",
    "print(classification_report(y, yhat, target_names = target_names))"
   ]
  },
  {
   "cell_type": "markdown",
   "metadata": {
    "colab_type": "text",
    "id": "dtyYoEIehj-U"
   },
   "source": [
    "## Show some test output"
   ]
  },
  {
   "cell_type": "code",
   "execution_count": 0,
   "metadata": {
    "colab": {
     "base_uri": "https://localhost:8080/",
     "height": 729
    },
    "colab_type": "code",
    "executionInfo": {
     "elapsed": 1222619,
     "status": "ok",
     "timestamp": 1569171349617,
     "user": {
      "displayName": "Dirk Hofmann",
      "photoUrl": "https://lh3.googleusercontent.com/a-/AAuE7mBvAWR3ZywZK1uYOIu0tUsfgcn0GTWOOk0Vkn3s=s64",
      "userId": "04076472018260608089"
     },
     "user_tz": -120
    },
    "id": "230zdoJ_hl4N",
    "outputId": "674c8864-072a-4d1d-ae95-ae3dfbd8ed10"
   },
   "outputs": [
    {
     "data": {
      "image/png": "[encoded data removed]",
      "text/plain": [
       "<Figure size 864x720 with 5 Axes>"
      ]
     },
     "metadata": {
      "tags": []
     },
     "output_type": "display_data"
    }
   ],
   "source": [
    "from random import randint\n",
    "import matplotlib.pyplot as plt\n",
    "import cv2\n",
    "\n",
    "%matplotlib inline\n",
    "\n",
    "label_dict = {0:\"PNEUMONIA\", 1:\"NORMAL\"}\n",
    "\n",
    "test_file_names = test_iterator.filenames\n",
    "n = len(test_file_names)\n",
    "\n",
    "plt.rcParams[\"figure.figsize\"] = 12, 10\n",
    "\n",
    "for i in range(5):\n",
    "    index = randint(0, n - 1)\n",
    "    file_name = test_files + test_file_names[index]\n",
    "    \n",
    "    image = cv2.imread(file_name, cv2.IMREAD_COLOR)\n",
    "    image = cv2.cvtColor(image, cv2.COLOR_BGR2RGB)\n",
    "    \n",
    "    ground_truth_label = label_dict[int(y[index])]\n",
    "    predicted_label = label_dict[int(yhat[index])]\n",
    "    \n",
    "    plt.subplot(5, 1, i + 1)\n",
    "    plt.axis(\"off\")\n",
    "    plt.imshow(image)\n",
    "    \n",
    "    title = \"Truth = \" + ground_truth_label + \", Predicted Label = \" + predicted_label\n",
    "    plt.title(title)\n",
    "\n",
    "plt.tight_layout()\n",
    "plt.show()"
   ]
  }
 ],
 "metadata": {
  "accelerator": "GPU",
  "colab": {
   "collapsed_sections": [],
   "name": "Transferlearning_InceptionV3_Example.ipynb",
   "provenance": [
    {
     "file_id": "18RW_h1SlMOdj5XgQjll-FEu6ztHLM7U1",
     "timestamp": 1569171561843
    }
   ],
   "toc_visible": true
  },
  "kernelspec": {
   "display_name": "Python 3",
   "language": "python",
   "name": "python3"
  },
  "language_info": {
   "codemirror_mode": {
    "name": "ipython",
    "version": 3
   },
   "file_extension": ".py",
   "mimetype": "text/x-python",
   "name": "python",
   "nbconvert_exporter": "python",
   "pygments_lexer": "ipython3",
   "version": "3.7.3"
  }
 },
 "nbformat": 4,
 "nbformat_minor": 1
}
